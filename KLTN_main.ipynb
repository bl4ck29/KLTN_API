{
  "cells": [
    {
      "cell_type": "code",
      "execution_count": null,
      "metadata": {
        "id": "4iWaDCRIZfNQ",
        "colab": {
          "base_uri": "https://localhost:8080/"
        },
        "outputId": "7cb0959a-e73e-470f-e51a-3d62536666ea"
      },
      "outputs": [
        {
          "output_type": "stream",
          "name": "stdout",
          "text": [
            "Collecting contractions\n",
            "  Downloading contractions-0.1.72-py2.py3-none-any.whl (8.3 kB)\n",
            "Collecting textsearch>=0.0.21\n",
            "  Downloading textsearch-0.0.21-py2.py3-none-any.whl (7.5 kB)\n",
            "Collecting anyascii\n",
            "  Downloading anyascii-0.3.1-py3-none-any.whl (287 kB)\n",
            "\u001b[K     |████████████████████████████████| 287 kB 4.4 MB/s \n",
            "\u001b[?25hCollecting pyahocorasick\n",
            "  Downloading pyahocorasick-1.4.4-cp37-cp37m-manylinux_2_17_x86_64.manylinux2014_x86_64.whl (106 kB)\n",
            "\u001b[K     |████████████████████████████████| 106 kB 44.9 MB/s \n",
            "\u001b[?25hInstalling collected packages: pyahocorasick, anyascii, textsearch, contractions\n",
            "Successfully installed anyascii-0.3.1 contractions-0.1.72 pyahocorasick-1.4.4 textsearch-0.0.21\n"
          ]
        }
      ],
      "source": [
        "!pip install contractions"
      ]
    },
    {
      "cell_type": "code",
      "source": [
        "from google.colab import drive\n",
        "drive.mount('/content/drive')"
      ],
      "metadata": {
        "colab": {
          "base_uri": "https://localhost:8080/"
        },
        "id": "n5doa262Ff-8",
        "outputId": "d5a89196-9a68-4c1a-cbf1-57229daaef1d"
      },
      "execution_count": null,
      "outputs": [
        {
          "output_type": "stream",
          "name": "stdout",
          "text": [
            "Mounted at /content/drive\n"
          ]
        }
      ]
    },
    {
      "cell_type": "code",
      "execution_count": null,
      "metadata": {
        "id": "auyWqX3xZ2TK",
        "colab": {
          "base_uri": "https://localhost:8080/"
        },
        "outputId": "d7bb7df1-1b2b-45fd-d87a-cdad41d2a2ba"
      },
      "outputs": [
        {
          "output_type": "stream",
          "name": "stdout",
          "text": [
            "[nltk_data] Downloading package wordnet to /root/nltk_data...\n",
            "[nltk_data]   Unzipping corpora/wordnet.zip.\n"
          ]
        },
        {
          "output_type": "execute_result",
          "data": {
            "text/plain": [
              "True"
            ]
          },
          "metadata": {},
          "execution_count": 12
        }
      ],
      "source": [
        "import pandas, re, contractions, nltk\n",
        "from string import punctuation\n",
        "from gensim.parsing.preprocessing import STOPWORDS\n",
        "nltk.download('wordnet')"
      ]
    },
    {
      "cell_type": "code",
      "execution_count": null,
      "metadata": {
        "id": "btrfOCi1aFfx"
      },
      "outputs": [],
      "source": [
        "fakes = pandas.read_csv(\"./drive/MyDrive/Fake.csv\")\n",
        "fakes[\"label\"] = 0"
      ]
    },
    {
      "cell_type": "code",
      "execution_count": null,
      "metadata": {
        "id": "SyKo3AxoaAA1"
      },
      "outputs": [],
      "source": [
        "reals = pandas.read_csv(\"./drive/MyDrive/True.csv\")\n",
        "reals[\"label\"] = 1"
      ]
    },
    {
      "cell_type": "code",
      "execution_count": null,
      "metadata": {
        "id": "spftA6XcaZdo"
      },
      "outputs": [],
      "source": [
        "data = pandas.concat([fakes, reals], ignore_index=True)"
      ]
    },
    {
      "cell_type": "code",
      "execution_count": null,
      "metadata": {
        "id": "_fYWMf1qak19"
      },
      "outputs": [],
      "source": [
        "data[\"content\"] = data[\"title\"] + \" \" + data[\"text\"]\n",
        "data = data.drop([\"title\", \"text\"], axis=1)\n",
        "data = data.dropna()\n",
        "data = data.drop_duplicates()\n",
        "data = data.reset_index(drop=True)"
      ]
    },
    {
      "cell_type": "code",
      "execution_count": null,
      "metadata": {
        "id": "XgxGusFEa7o0"
      },
      "outputs": [],
      "source": [
        "columns = list(data.columns)"
      ]
    },
    {
      "cell_type": "code",
      "execution_count": null,
      "metadata": {
        "id": "fucfsHVqbB1a"
      },
      "outputs": [],
      "source": [
        "def IsDatetime():\n",
        "    result = []\n",
        "    patt_mmddyyyy = \"[a-z]*..[0-9]*..[0-9]*$\"\n",
        "    patt_ddmmyyyy = \"[0-9]*..[a-z]*..[0-9]*$\"\n",
        "    for row in range(len(data)):\n",
        "        if (re.match(patt_mmddyyyy, str(data.loc[row, 'date']).lower().strip())) or (re.match(patt_ddmmyyyy, str(data.loc[row, 'date']).lower().strip())):\n",
        "            result.append(True)\n",
        "        else:\n",
        "            result.append(False)\n",
        "    return result"
      ]
    },
    {
      "cell_type": "code",
      "execution_count": null,
      "metadata": {
        "id": "fIjXtVWkbEoN"
      },
      "outputs": [],
      "source": [
        "data = data.loc[IsDatetime()]\n",
        "data = data.reset_index(drop=True)\n",
        "data[\"date\"] = pandas.to_datetime(data[\"date\"])"
      ]
    },
    {
      "cell_type": "code",
      "execution_count": null,
      "metadata": {
        "id": "kBkO5juRgLBa"
      },
      "outputs": [],
      "source": [
        "lemma = nltk.wordnet.WordNetLemmatizer()"
      ]
    },
    {
      "cell_type": "code",
      "execution_count": null,
      "metadata": {
        "id": "SmspUpA7bHTM"
      },
      "outputs": [],
      "source": [
        "def RemoveWithPattern(patt_start, patt_end, text, replace_with):\n",
        "  while True:\n",
        "      start_ind = text.find(patt_start)\n",
        "      if start_ind < 0:\n",
        "          break\n",
        "      else:\n",
        "          end_ind = text.find(patt_end, start_ind)\n",
        "          if end_ind < 0:\n",
        "            end_ind = len(text)\n",
        "          matched = text[start_ind: end_ind]\n",
        "          text = text.replace(matched, replace_with)\n",
        "  return text\n",
        "\n",
        "# def ReplaceWithREPattern(patt, replace_with, text):\n",
        "#   groups = re.search(patt, text)\n",
        "#   for group in groups:\n",
        "#     text.replace(group, replace_with)\n",
        "#   return text\n",
        "\n",
        "def RemoveNoneAlphaCharacter(text:str):\n",
        "  lst = [text[i] for i in range(len(text))]\n",
        "  result = []\n",
        "  for char in lst:\n",
        "    if char.isalpha():\n",
        "      result.append(char)\n",
        "  return \"\".join(result)"
      ]
    },
    {
      "cell_type": "code",
      "execution_count": null,
      "metadata": {
        "id": "6ulroaMpbNTD"
      },
      "outputs": [],
      "source": [
        "# stopwords = nltk.corpus.stopwords.words(\"english\")\n",
        "# stopwords.remove(\"not\")\n",
        "stopwords = list(STOPWORDS)\n",
        "stopwords.remove(\"not\")"
      ]
    },
    {
      "cell_type": "code",
      "source": [
        "with open(\"./drive/MyDrive/stopword_en.txt\", 'w') as file:\n",
        "  for i in range(len(stopwords)):\n",
        "    file.write(stopwords[i] + '\\n')"
      ],
      "metadata": {
        "id": "lg4LrxdvzlWM"
      },
      "execution_count": null,
      "outputs": []
    },
    {
      "cell_type": "code",
      "execution_count": null,
      "metadata": {
        "id": "iZin-MKabVC5"
      },
      "outputs": [],
      "source": [
        "# def fix(text: str):\n",
        "#   text = contractions.fix(text).strip()\n",
        "#   patt_textWithNum = \"[0-9]+[a-zA-Z]\"\n",
        "#   for word in re.findall(patt, text):\n",
        "#       text = text.replace(word, word[:-1] + \" \" + word[-1])\n",
        "#   text = RemoveWithPattern(\"https\", \" \", text, \"\")\n",
        "#   text = RemoveWithPattern(\"@\", \" \", text, \"\")\n",
        "#   text = [lemma.lemmatize(word) for word in text.split()]\n",
        "#   text = list(filter(lambda x: x.lower() not in stopwords, text))\n",
        "#   text = \" \".join(text)\n",
        "\n",
        "#   return text\n",
        "def fix(text):\n",
        "  # Fix uncommon characters\n",
        "  text = text.replace(\"’\", \"'\")\n",
        "  # Remove punctuations\n",
        "  for punc in punctuation:\n",
        "    text = text.replace(punc, \"\")\n",
        "\n",
        "  # Fix number attach to text. Example: \"2017no one likes you\" usually happend with crawled comments from Twitter\n",
        "  patt_textWithNum = \"[0-9]+[a-zA-Z]\"\n",
        "  for group in set(re.findall(patt_textWithNum, text)):\n",
        "    text = text.replace(group, group[:-1] + \" \" + group[-1])\n",
        "  \n",
        "  # Fix possesive case and NOT contraction come without ' char included\n",
        "  patt_contraction = '[a-z|A-Z]* [t|s|d] '\n",
        "  for group in set(re.findall(patt_contraction, text)):\n",
        "    group = group.strip()\n",
        "    text = text.replace(group, group.replace(\" \", \"'\"))\n",
        "\n",
        "  # Remove link and Twitter's tag\n",
        "  text = RemoveWithPattern(\"https\", \" \", text, \"\")\n",
        "  text = RemoveWithPattern(\"@\", \" \", text, \"\")\n",
        "\n",
        "  text = contractions.fix(text)\n",
        "\n",
        "  # Lemmatizing\n",
        "  text = [lemma.lemmatize(word.strip()) for word in text.split()]\n",
        "  result = []\n",
        "  for t in text:\n",
        "    if (t.lower() not in stopwords) and (t.isalpha):\n",
        "      result.append(t)\n",
        "  return result"
      ]
    },
    {
      "cell_type": "code",
      "execution_count": null,
      "metadata": {
        "id": "KCqhKrYsb5Qa"
      },
      "outputs": [],
      "source": [
        "text = data.loc[0, 'content']\n",
        "# text = text.replace(\"’\", \"'\")\n",
        "# groups = re.findall('[a-z|A-Z]* [t|s] ', text)\n",
        "# for group in groups:\n",
        "#   group = group.strip()\n",
        "#   text = text.replace(group, group.replace(\" \", \"'\"))\n",
        "\" \".join(fix(text))"
      ]
    },
    {
      "cell_type": "code",
      "execution_count": null,
      "metadata": {
        "id": "Rv4nour3b2Qs"
      },
      "outputs": [],
      "source": [
        "data[\"content\"] = data[\"content\"].apply(lambda x : \" \".join(fix(x)))"
      ]
    },
    {
      "cell_type": "code",
      "source": [
        "data['content'] = data['content'].apply(str.lower)"
      ],
      "metadata": {
        "id": "XgKq29cbcETh"
      },
      "execution_count": null,
      "outputs": []
    },
    {
      "cell_type": "code",
      "execution_count": null,
      "metadata": {
        "id": "Obj8a3aBh11v"
      },
      "outputs": [],
      "source": [
        "embedding_vector_feature = 40\n",
        "sent_len = 5000\n",
        "voc_size = 10000"
      ]
    },
    {
      "cell_type": "code",
      "source": [
        "X_train, y_train, X_val, y_val, X_test, y_test = [], [], [], [], [], []\n",
        "for label in [0, 1]:\n",
        "    content = data.loc[data['label']==label]['content'].tolist()\n",
        "    \n",
        "    size_train = int(0.7 * len(content))\n",
        "    X_train.extend(content[:size_train])\n",
        "    y_train.extend([label for i in range(size_train)])\n",
        "    \n",
        "    size_val = int(0.2 * len(content))\n",
        "    X_val.extend(content[size_train : ])\n",
        "    y_val.extend([label for i in range(len(content)-size_train)])\n",
        "\n",
        "    # X_test.extend(content[size_train+size_val:])\n",
        "    # y_test.extend([label for i in range(len(content)-size_train-size_val)])"
      ],
      "metadata": {
        "id": "V_uvGYOrA0Yz"
      },
      "execution_count": null,
      "outputs": []
    },
    {
      "cell_type": "code",
      "execution_count": null,
      "metadata": {
        "id": "hH_YFl2ciJ-L"
      },
      "outputs": [],
      "source": [
        "from tensorflow.keras.preprocessing.text import one_hot\n",
        "from tensorflow.keras.preprocessing.sequence import pad_sequences"
      ]
    },
    {
      "cell_type": "code",
      "execution_count": null,
      "metadata": {
        "id": "7pskPp9EiQsj"
      },
      "outputs": [],
      "source": [
        "X_train = [one_hot(text, voc_size) for text in X_train]\n",
        "X_train = pad_sequences(X_train, padding='pre', maxlen=sent_len)\n",
        "\n",
        "X_val = [one_hot(text, voc_size) for text in X_val]\n",
        "X_val = pad_sequences(X_val, padding='pre', maxlen=sent_len)\n",
        "\n",
        "X_test = [one_hot(text, voc_size) for text in X_test]\n",
        "X_test = pad_sequences(X_test, padding='pre', maxlen=sent_len)"
      ]
    },
    {
      "cell_type": "code",
      "execution_count": null,
      "metadata": {
        "id": "jFvXilL5kEBU"
      },
      "outputs": [],
      "source": [
        "import numpy\n",
        "X_train = numpy.array(X_train)\n",
        "y_train = numpy.array(y_train)\n",
        "X_val = numpy.array(X_val)\n",
        "y_val = numpy.array(y_val)\n",
        "X_test = numpy.array(X_test)\n",
        "y_test = numpy.array(y_test)"
      ]
    },
    {
      "cell_type": "code",
      "execution_count": null,
      "metadata": {
        "id": "xcCkHRHfOAIg"
      },
      "outputs": [],
      "source": [
        "import pickle\n",
        "with open('./drive/MyDrive/TrainData.pkl', 'wb') as file:\n",
        "    pickle.dump((X_train, y_train, X_val, y_val), file)\n",
        "with open('./drive/MyDrive/TestData.pkl', 'wb') as file:\n",
        "    pickle.dump((X_test, y_test), file)"
      ]
    },
    {
      "cell_type": "code",
      "execution_count": null,
      "metadata": {
        "id": "x48KisopOp-Q"
      },
      "outputs": [],
      "source": [
        "import pickle\n",
        "with open(\"./drive/MyDrive/TrainData\", \"rb\") as file:\n",
        "  X_train, X_val, y_train, y_val = pickle.load(file)"
      ]
    },
    {
      "cell_type": "code",
      "execution_count": null,
      "metadata": {
        "id": "jHOfCEjljAnr"
      },
      "outputs": [],
      "source": [
        "from tensorflow.keras.layers import Embedding, Dropout, LSTM, Dense, GlobalAveragePooling1D, Bidirectional\n",
        "from tensorflow.keras.models import Sequential"
      ]
    },
    {
      "cell_type": "code",
      "execution_count": null,
      "metadata": {
        "id": "UUPqFdpujOWa"
      },
      "outputs": [],
      "source": [
        "# LSTM model\n",
        "model = Sequential()\n",
        "model.add(Embedding(voc_size, embedding_vector_feature, input_length=sent_len))\n",
        "model.add(Dropout(0.3))\n",
        "model.add(LSTM(100))\n",
        "model.add(Dropout(0.3))\n",
        "model.add(Dense(1, activation=\"sigmoid\"))"
      ]
    },
    {
      "cell_type": "code",
      "execution_count": null,
      "metadata": {
        "id": "CrmvBGFIe5qG"
      },
      "outputs": [],
      "source": [
        "# Bidirectional model\n",
        "model = Sequential()\n",
        "model.add(Embedding(input_dim=voc_size, output_dim=64))\n",
        "model.add(Bidirectional(LSTM(64)))\n",
        "model.add(Dense(64, activation=\"relu\"))\n",
        "model.add(Dense(1))"
      ]
    },
    {
      "cell_type": "code",
      "execution_count": null,
      "metadata": {
        "id": "EFBImkALg1Ej"
      },
      "outputs": [],
      "source": [
        "# Tensorflow model\n",
        "model = Sequential()\n",
        "model.add(Embedding(voc_size, sent_len))\n",
        "model.add(Dropout(0.3))\n",
        "model.add(GlobalAveragePooling1D())\n",
        "model.add(Dropout(0.3))\n",
        "model.add(Dense(1, activation=\"sigmoid\"))"
      ]
    },
    {
      "cell_type": "code",
      "execution_count": null,
      "metadata": {
        "id": "b3dcg8jnkApx"
      },
      "outputs": [],
      "source": [
        "from tensorflow.keras.callbacks import ModelCheckpoint, EarlyStopping\n",
        "from tensorflow.keras.losses import BinaryCrossentropy\n",
        "from tensorflow.keras.optimizers import Adam"
      ]
    },
    {
      "cell_type": "code",
      "execution_count": null,
      "metadata": {
        "id": "hhvpCmlslMNh"
      },
      "outputs": [],
      "source": [
        "early_stop = EarlyStopping(monitor=\"val_accuracy\", min_delta=0.01, patience=3, mode=\"max\", restore_best_weights=True)\n",
        "# checkpoint = ModelCheckpoint(\"./drive/MyDrive/models//\", \"val_accuracy\", save_best_only=True, save_weights_only=False, mode=\"max\")"
      ]
    },
    {
      "cell_type": "code",
      "execution_count": null,
      "metadata": {
        "id": "hFCLA_MTj6Gp"
      },
      "outputs": [],
      "source": [
        "model.compile(optimizer=Adam(1e-4), loss=BinaryCrossentropy(from_logits=True), metrics=[\"accuracy\"])\n",
        "# model.compile(optimizer=Adam(), loss=BinaryCrossentropy(), metrics=[\"accuracy\"])"
      ]
    },
    {
      "cell_type": "code",
      "execution_count": null,
      "metadata": {
        "id": "FOcAcX9ml1Tt",
        "colab": {
          "base_uri": "https://localhost:8080/"
        },
        "outputId": "dd31333b-2c8f-452f-eb93-a8b4122726e6"
      },
      "outputs": [
        {
          "output_type": "stream",
          "name": "stdout",
          "text": [
            "Epoch 1/15\n",
            "489/489 [==============================] - 5404s 11s/step - loss: 0.3223 - accuracy: 0.8285 - val_loss: 0.1099 - val_accuracy: 0.9676\n",
            "Epoch 2/15\n",
            "489/489 [==============================] - 5646s 12s/step - loss: 0.0405 - accuracy: 0.9905 - val_loss: 0.0891 - val_accuracy: 0.9817\n",
            "Epoch 3/15\n",
            "489/489 [==============================] - 5673s 12s/step - loss: 0.0200 - accuracy: 0.9961 - val_loss: 0.0563 - val_accuracy: 0.9867\n",
            "Epoch 4/15\n",
            "489/489 [==============================] - 5714s 12s/step - loss: 0.0218 - accuracy: 0.9939 - val_loss: 0.0719 - val_accuracy: 0.9826\n",
            "Epoch 5/15\n",
            "489/489 [==============================] - 5799s 12s/step - loss: 0.0089 - accuracy: 0.9983 - val_loss: 0.0530 - val_accuracy: 0.9889\n"
          ]
        }
      ],
      "source": [
        "history = model.fit(X_train, y_train, validation_data=(X_val, y_val), epochs=15, batch_size=64, callbacks=[early_stop])"
      ]
    },
    {
      "cell_type": "code",
      "execution_count": null,
      "metadata": {
        "id": "Vm7i3Wl1NZwQ"
      },
      "outputs": [],
      "source": [
        "import json, time\n",
        "old = {}\n",
        "with open(\"./drive/MyDrive/models/bidirect/history.json\", \"a\") as file:\n",
        "  try:\n",
        "    old = json.load(file)\n",
        "  except:\n",
        "    pass\n",
        "  old.update({time.time() : history.history})\n",
        "  json.dump(old, file)"
      ]
    },
    {
      "cell_type": "code",
      "execution_count": null,
      "metadata": {
        "id": "QHxfgbXjmQhG",
        "colab": {
          "base_uri": "https://localhost:8080/"
        },
        "outputId": "d1b1bd34-950b-4ff7-e98a-9a65b5f176b5"
      },
      "outputs": [
        {
          "output_type": "stream",
          "name": "stderr",
          "text": [
            "WARNING:absl:Found untraced functions such as lstm_cell_1_layer_call_fn, lstm_cell_1_layer_call_and_return_conditional_losses, lstm_cell_2_layer_call_fn, lstm_cell_2_layer_call_and_return_conditional_losses while saving (showing 4 of 4). These functions will not be directly callable after loading.\n"
          ]
        },
        {
          "output_type": "stream",
          "name": "stdout",
          "text": [
            "INFO:tensorflow:Assets written to: ./drive/MyDrive/models/bidirect/assets\n"
          ]
        },
        {
          "output_type": "stream",
          "name": "stderr",
          "text": [
            "INFO:tensorflow:Assets written to: ./drive/MyDrive/models/bidirect/assets\n",
            "WARNING:absl:<keras.layers.recurrent.LSTMCell object at 0x7f05dfeae590> has the same name 'LSTMCell' as a built-in Keras object. Consider renaming <class 'keras.layers.recurrent.LSTMCell'> to avoid naming conflicts when loading with `tf.keras.models.load_model`. If renaming is not possible, pass the object in the `custom_objects` parameter of the load function.\n",
            "WARNING:absl:<keras.layers.recurrent.LSTMCell object at 0x7f05dfecd210> has the same name 'LSTMCell' as a built-in Keras object. Consider renaming <class 'keras.layers.recurrent.LSTMCell'> to avoid naming conflicts when loading with `tf.keras.models.load_model`. If renaming is not possible, pass the object in the `custom_objects` parameter of the load function.\n"
          ]
        }
      ],
      "source": [
        "model.save(\"./drive/MyDrive/models/bidirect/\")"
      ]
    },
    {
      "cell_type": "code",
      "source": [
        "from sklearn.svm import SVC\n",
        "clf = SVC(kernel=\"poly\", probability=True)\n",
        "clf.fit(X_train, y_train)"
      ],
      "metadata": {
        "id": "Y8wvz2wethtq"
      },
      "execution_count": null,
      "outputs": []
    },
    {
      "cell_type": "code",
      "source": [
        "import pickle\n",
        "with open(\"./drive/MyDrive/models/SVMClassifier.sav\", \"wb\") as file:\n",
        "  pickle.dump(clf, file)"
      ],
      "metadata": {
        "id": "KzpTtfzo6sXn"
      },
      "execution_count": null,
      "outputs": []
    },
    {
      "cell_type": "code",
      "source": [
        "from sklearn.linear_model import LinearRegression\n",
        "clf_regression = LinearRegression(fit_intercept=False)\n",
        "clf_regression.fit(X_train, y_train)"
      ],
      "metadata": {
        "id": "B2rrZqSwRBHY"
      },
      "execution_count": null,
      "outputs": []
    },
    {
      "cell_type": "code",
      "source": [
        "with open(\"./drive/MyDrive/content.txt\") as file:\n",
        "  data = file.read().split(\"\\n\")"
      ],
      "metadata": {
        "id": "kRucHAowi4w9"
      },
      "execution_count": null,
      "outputs": []
    },
    {
      "cell_type": "markdown",
      "metadata": {
        "id": "Ll0TUwfM_LiU"
      },
      "source": [
        "Model prediction"
      ]
    },
    {
      "cell_type": "code",
      "source": [
        "import pickle\n",
        "with open(\"./drive/MyDrive/models/SVCPBF.sav\", \"rb\") as file:\n",
        "  clf = pickle.load(file)"
      ],
      "metadata": {
        "id": "3RG--KOG8mID"
      },
      "execution_count": null,
      "outputs": []
    },
    {
      "cell_type": "code",
      "source": [
        "import pickle\n",
        "with open(\"./drive/MyDrive/models/LinearRegression.sav\", \"rb\") as file:\n",
        "  clf = pickle.load(file)"
      ],
      "metadata": {
        "id": "ajo2U-DlEnzA"
      },
      "execution_count": null,
      "outputs": []
    },
    {
      "cell_type": "code",
      "execution_count": null,
      "metadata": {
        "id": "zhxaG542mapD"
      },
      "outputs": [],
      "source": [
        "from tensorflow.keras.models import load_model\n",
        "model = load_model(\"./drive/MyDrive/models/KLTNModel_other/\")"
      ]
    },
    {
      "cell_type": "code",
      "execution_count": null,
      "metadata": {
        "id": "9L88VNUPDAks"
      },
      "outputs": [],
      "source": [
        "import pandas, numpy\n",
        "data = pandas.read_csv(\"./drive/MyDrive/test.csv\")\n",
        "data[\"text\"] = data[\"title\"] + data[\"text\"]\n",
        "data[\"label\"] = 0\n",
        "data = data.loc[data['language']=='english']\n",
        "data = data.drop(['uuid', 'ord_in_thread', 'author', 'published', \"title\",\n",
        "       'language', 'crawled', 'site_url', 'country', 'domain_rank',\n",
        "       'thread_title', 'spam_score', 'main_img_url', 'replies_count',\n",
        "       'participants_count', 'likes', 'comments', 'shares', 'type'], axis=1)\n",
        "data = data.dropna(subset=['text'])\n",
        "data = data.drop_duplicates()\n",
        "data = data.reset_index()"
      ]
    },
    {
      "cell_type": "code",
      "source": [
        "data.loc[0, 'text']"
      ],
      "metadata": {
        "colab": {
          "base_uri": "https://localhost:8080/",
          "height": 105
        },
        "id": "a9u8frx8T6vf",
        "outputId": "52e441b2-b7f6-4503-8f0d-379223ed35b6"
      },
      "execution_count": null,
      "outputs": [
        {
          "output_type": "execute_result",
          "data": {
            "text/plain": [
              "'Muslims BUSTED: They Stole Millions In Gov’t BenefitsPrint They should pay all the back all the money plus interest. The entire family and everyone who came in with them need to be deported asap. Why did it take two years to bust them? \\nHere we go again …another group stealing from the government and taxpayers! A group of Somalis stole over four million in government benefits over just 10 months! \\nWe’ve reported on numerous cases like this one where the Muslim refugees/immigrants commit fraud by scamming our system…It’s way out of control! More Related'"
            ],
            "application/vnd.google.colaboratory.intrinsic+json": {
              "type": "string"
            }
          },
          "metadata": {},
          "execution_count": 10
        }
      ]
    },
    {
      "cell_type": "code",
      "execution_count": null,
      "metadata": {
        "colab": {
          "base_uri": "https://localhost:8080/",
          "height": 35
        },
        "id": "vBk1RaJxP502",
        "outputId": "edcd537b-c37c-46b6-c287-36c774b5e42e"
      },
      "outputs": [
        {
          "data": {
            "application/vnd.google.colaboratory.intrinsic+json": {
              "type": "string"
            },
            "text/plain": [
              "'…ano!ther '"
            ]
          },
          "execution_count": 12,
          "metadata": {},
          "output_type": "execute_result"
        }
      ],
      "source": [
        "text = \"…ano!ther\"\n",
        "text.replace(\" \", \"'\") + \" \""
      ]
    },
    {
      "cell_type": "code",
      "execution_count": null,
      "metadata": {
        "id": "NZHmBzgycJu0"
      },
      "outputs": [],
      "source": [
        "test_content, test_labels = [], []\n",
        "for row in range(len(data)):\n",
        "  try:\n",
        "    content = ' '.join(fix(data.loc[row, \"text\"]))\n",
        "    test_content.append(content.lower())\n",
        "    test_labels.append(data.loc[row, \"label\"])\n",
        "  except:\n",
        "    print(row)\n",
        "    break"
      ]
    },
    {
      "cell_type": "code",
      "execution_count": null,
      "metadata": {
        "id": "xMBp0jU98KKF"
      },
      "outputs": [],
      "source": [
        "import random\n",
        "for i in range(500):\n",
        "  ind = random.randint(0, len(reals))\n",
        "  test_content.append(reals.loc[ind, \"text\"])\n",
        "  test_labels.append(1)"
      ]
    },
    {
      "cell_type": "code",
      "execution_count": null,
      "metadata": {
        "id": "5BklLalbDfnJ"
      },
      "outputs": [],
      "source": [
        "text_content = numpy.array(test_content)"
      ]
    },
    {
      "cell_type": "code",
      "execution_count": null,
      "metadata": {
        "id": "1p3aw9Dl-8V1"
      },
      "outputs": [],
      "source": [
        "test_onehot_converted = [one_hot(content, voc_size) for content in test_content]"
      ]
    },
    {
      "cell_type": "code",
      "execution_count": null,
      "metadata": {
        "id": "QO8Yqw1w_DPi"
      },
      "outputs": [],
      "source": [
        "test_embedded_doc = pad_sequences(test_onehot_converted, padding=\"pre\", maxlen=sent_len)"
      ]
    },
    {
      "cell_type": "code",
      "execution_count": null,
      "metadata": {
        "id": "O9I8c_Se_GiK"
      },
      "outputs": [],
      "source": [
        "import numpy\n",
        "embedded_doc = numpy.array(test_embedded_doc)\n",
        "test_labels = numpy.array(test_labels)"
      ]
    },
    {
      "cell_type": "code",
      "execution_count": null,
      "metadata": {
        "id": "YfUoWmh6_Kla"
      },
      "outputs": [],
      "source": [
        "result = model.predict(embedded_doc)"
      ]
    },
    {
      "cell_type": "code",
      "execution_count": null,
      "metadata": {
        "id": "brF6ZASl_xVy"
      },
      "outputs": [],
      "source": [
        "result = clf.predict(test_embedded_doc)"
      ]
    },
    {
      "cell_type": "code",
      "source": [
        "result[:10]"
      ],
      "metadata": {
        "colab": {
          "base_uri": "https://localhost:8080/"
        },
        "id": "qPPz7-dQHLTW",
        "outputId": "7d867657-f0a8-47b0-901d-32532cfc6d31"
      },
      "execution_count": null,
      "outputs": [
        {
          "output_type": "execute_result",
          "data": {
            "text/plain": [
              "array([[-3.5193574],\n",
              "       [-6.4862404],\n",
              "       [-6.012912 ],\n",
              "       [-2.266204 ],\n",
              "       [-6.222539 ],\n",
              "       [-6.9132447],\n",
              "       [-6.749294 ],\n",
              "       [-6.994339 ],\n",
              "       [-6.4447184],\n",
              "       [-6.288137 ]], dtype=float32)"
            ]
          },
          "metadata": {},
          "execution_count": 39
        }
      ]
    },
    {
      "cell_type": "code",
      "execution_count": null,
      "metadata": {
        "id": "KbwyxyxyWtsz"
      },
      "outputs": [],
      "source": [
        "model_pred = []\n",
        "for i in range(len(result)):\n",
        "  if float(result[i][0]) > 0.5:\n",
        "    model_pred.append(1)\n",
        "  else:\n",
        "    model_pred.append(0)"
      ]
    },
    {
      "cell_type": "code",
      "execution_count": null,
      "metadata": {
        "id": "xvy2Gtfjm3HJ"
      },
      "outputs": [],
      "source": [
        "test_labels = y_test"
      ]
    },
    {
      "cell_type": "code",
      "execution_count": null,
      "metadata": {
        "id": "Chw2w2ma_7or"
      },
      "outputs": [],
      "source": [
        "from sklearn.metrics import accuracy_score, precision_score, f1_score, confusion_matrix, recall_score"
      ]
    },
    {
      "cell_type": "code",
      "execution_count": null,
      "metadata": {
        "colab": {
          "base_uri": "https://localhost:8080/"
        },
        "id": "rPUUCHYoNnuN",
        "outputId": "54931ddd-cae7-48fc-a131-b29a643c7ef5"
      },
      "outputs": [
        {
          "output_type": "stream",
          "name": "stdout",
          "text": [
            "Accuracy: 0.9388718628344239\n",
            "Precision: 0.004166666666666667\n",
            "F1: 0.002702702702702703\n",
            "Recall: 0.002\n"
          ]
        }
      ],
      "source": [
        "print('Accuracy:', accuracy_score(test_labels, model_pred))\n",
        "print('Precision:', precision_score(test_labels, model_pred))\n",
        "print('F1:', f1_score(test_labels, model_pred))\n",
        "print('Recall:', recall_score(test_labels, model_pred))"
      ]
    },
    {
      "cell_type": "code",
      "execution_count": null,
      "metadata": {
        "id": "_HuvtAcKXR32"
      },
      "outputs": [],
      "source": [
        "(tn, fp, fn, tp) = confusion_matrix(test_labels, model_pred).ravel()"
      ]
    },
    {
      "cell_type": "code",
      "execution_count": null,
      "metadata": {
        "colab": {
          "base_uri": "https://localhost:8080/"
        },
        "id": "kX-YVkI_bWE9",
        "outputId": "32f714ea-6fb8-47ae-f4b3-e6c20ec5605c"
      },
      "outputs": [
        {
          "output_type": "stream",
          "name": "stdout",
          "text": [
            "TN: 11334, TP: 1\n",
            "FN: 499, FP: 239\n"
          ]
        }
      ],
      "source": [
        "print(\"TN: %d, TP: %d\"%(tn, tp))\n",
        "print(\"FN: %d, FP: %d\"%(fn, fp))"
      ]
    },
    {
      "cell_type": "code",
      "execution_count": null,
      "metadata": {
        "colab": {
          "base_uri": "https://localhost:8080/",
          "height": 295
        },
        "id": "fgrnDw3UoihI",
        "outputId": "0a449944-d511-4902-9e76-48abf8fde091"
      },
      "outputs": [
        {
          "output_type": "display_data",
          "data": {
            "text/plain": [
              "<Figure size 432x288 with 2 Axes>"
            ],
            "image/png": "[encoded data removed]"
          },
          "metadata": {
            "needs_background": "light"
          }
        }
      ],
      "source": [
        "from sklearn.metrics import ConfusionMatrixDisplay\n",
        "import matplotlib.pyplot as plt\n",
        "cm = confusion_matrix(test_labels, model_pred)\n",
        "disp = ConfusionMatrixDisplay(confusion_matrix=cm)\n",
        "disp.plot()\n",
        "plt.title(\"tensorflow\")\n",
        "plt.show()"
      ]
    },
    {
      "cell_type": "code",
      "execution_count": null,
      "metadata": {
        "id": "tu5x1t04FOi1",
        "colab": {
          "base_uri": "https://localhost:8080/"
        },
        "outputId": "74ea0122-49c2-480d-d399-1bf5fb270d5a"
      },
      "outputs": [
        {
          "output_type": "stream",
          "name": "stdout",
          "text": [
            "Accuracy: 0.8\n",
            "Precision: 1.0\n",
            "F1: 0.888888888888889\n",
            "Recall: 0.8\n"
          ]
        }
      ],
      "source": [
        "print('Accuracy:', accuracy_score(test_labels, result))\n",
        "print('Precision:', precision_score(test_labels, result))\n",
        "print('F1:', f1_score(test_labels, result))\n",
        "print('Recall:', recall_score(test_labels, result))"
      ]
    },
    {
      "cell_type": "code",
      "execution_count": null,
      "metadata": {
        "colab": {
          "base_uri": "https://localhost:8080/"
        },
        "id": "9u-NSHV8KTAb",
        "outputId": "310227c1-646a-4190-afdb-c8abbb724570"
      },
      "outputs": [
        {
          "data": {
            "text/plain": [
              "Index(['word', 'tag', 'frequency', 'doc_frequency'], dtype='object')"
            ]
          },
          "execution_count": 100,
          "metadata": {},
          "output_type": "execute_result"
        }
      ],
      "source": [
        "words.columns"
      ]
    },
    {
      "cell_type": "code",
      "execution_count": null,
      "metadata": {
        "id": "DtxudQS0KT4S"
      },
      "outputs": [],
      "source": [
        "set_words = set([str(word).lower() for word in words[\"word\"].tolist()])"
      ]
    },
    {
      "cell_type": "code",
      "execution_count": null,
      "metadata": {
        "colab": {
          "base_uri": "https://localhost:8080/"
        },
        "id": "m5M_CVXHKgBK",
        "outputId": "e19ada42-2b6f-4fb7-82dd-dffb9015f5d7"
      },
      "outputs": [
        {
          "data": {
            "text/plain": [
              "364355"
            ]
          },
          "execution_count": 104,
          "metadata": {},
          "output_type": "execute_result"
        }
      ],
      "source": [
        "len(set_words)"
      ]
    },
    {
      "cell_type": "code",
      "execution_count": null,
      "metadata": {
        "id": "fe337L2MMn0H"
      },
      "outputs": [],
      "source": [
        "text = data['content'][0]"
      ]
    },
    {
      "cell_type": "code",
      "execution_count": null,
      "metadata": {
        "id": "SB1n-UZtMvu_"
      },
      "outputs": [],
      "source": [
        "text = text[text.index(\";\"):]"
      ]
    },
    {
      "cell_type": "code",
      "execution_count": null,
      "metadata": {
        "colab": {
          "base_uri": "https://localhost:8080/"
        },
        "id": "fPlMBC3HM13I",
        "outputId": "113b2ffc-3017-4e2e-e452-84e77c8e94b6"
      },
      "outputs": [
        {
          "data": {
            "text/plain": [
              "['couldn t ', 'couldn t ', 'won t ', 'can t ', 'don t ', 'don t ']"
            ]
          },
          "execution_count": 44,
          "metadata": {},
          "output_type": "execute_result"
        }
      ],
      "source": [
        "patt = '[a-z]*n t '\n",
        "groups = re.findall(patt, text)\n",
        "groups"
      ]
    },
    {
      "cell_type": "code",
      "execution_count": null,
      "metadata": {
        "id": "CciMnoDgNKuN"
      },
      "outputs": [],
      "source": [
        "def FixNotContraction(text):\n",
        "  return text.replace(\" \", \"'\") + \" \""
      ]
    },
    {
      "cell_type": "code",
      "execution_count": null,
      "metadata": {
        "id": "kw1_Wyk2M2eo"
      },
      "outputs": [],
      "source": [
        "for group in set(groups):\n",
        "  text = text.replace(group, FixNotContraction(group.strip()))"
      ]
    },
    {
      "cell_type": "code",
      "execution_count": null,
      "metadata": {
        "colab": {
          "base_uri": "https://localhost:8080/",
          "height": 105
        },
        "id": "b6ZmzIjlNRot",
        "outputId": "010b8038-c6b6-4075-a9de-cba66f134348"
      },
      "outputs": [
        {
          "data": {
            "application/vnd.google.colaboratory.intrinsic+json": {
              "type": "string"
            },
            "text/plain": [
              "' Donald Trump Sends Out Embarrassing New Year’s Eve Message; This is Disturbing Donald Trump just could not wish all Americans a Happy New Year and leave it at that. Instead, he had to give a shout out to his enemies, haters and  the very dishonest fake news media.  The former reality show star had just one job to do and he could not do it. As our Country rapidly grows stronger and smarter, I want to wish all of my friends, supporters, enemies, haters, and even the very dishonest Fake News Media, a Happy and Healthy New Year,  President Angry Pants tweeted.  2018 will be a great year for America! As our Country rapidly grows stronger and smarter, I want to wish all of my friends, supporters, enemies, haters, and even the very dishonest Fake News Media, a Happy and Healthy New Year. 2018 will be a great year for America!  Donald J. Trump (@realDonaldTrump) December 31, 2017Trump s tweet went down about as welll as you d expect.What kind of president sends a New Year s greeting like this despicable, petty, infantile gibberish? Only Trump! His lack of decency will not even allow him to rise above the gutter long enough to wish the American citizens a happy new year!  Bishop Talbert Swan (@TalbertSwan) December 31, 2017no one likes you  Calvin (@calvinstowell) December 31, 2017Your impeachment would make 2018 a great year for America, but I ll also accept regaining control of Congress.  Miranda Yaver (@mirandayaver) December 31, 2017Do you hear yourself talk? When you have to include that many people that hate you you have to wonder? Why do the they all hate me?  Alan Sandoval (@AlanSandoval13) December 31, 2017Who uses the word Haters in a New Years wish??  Marlene (@marlene399) December 31, 2017You cannot just say happy new year?  Koren pollitt (@Korencarpenter) December 31, 2017Here s Trump s New Year s Eve tweet from 2016.Happy New Year to all, including to my many enemies and those who have fought me and lost so badly they just do not know what to do. Love!  Donald J. Trump (@realDonaldTrump) December 31, 2016This is nothing new for Trump. He s been doing this for years.Trump has directed messages to his  enemies  and  haters  for New Year s, Easter, Thanksgiving, and the anniversary of 9/11. pic.twitter.com/4FPAe2KypA  Daniel Dale (@ddale8) December 31, 2017Trump s holiday tweets are clearly not presidential.How long did he work at Hallmark before becoming President?  Steven Goodine (@SGoodine) December 31, 2017He s always been like this . . . the only difference is that in the last few years, his filter has been breaking down.  Roy Schulze (@thbthttt) December 31, 2017Who, apart from a teenager uses the term haters?  Wendy (@WendyWhistles) December 31, 2017he s a fucking 5 year old  Who Knows (@rainyday80) December 31, 2017So, to all the people who voted for this a hole thinking he would change once he got into power, you were wrong! 70-year-old men do not change and now he s a year older.Photo by Andrew Burton/Getty Images.'"
            ]
          },
          "execution_count": 48,
          "metadata": {},
          "output_type": "execute_result"
        }
      ],
      "source": [
        "contractions.fix(text)"
      ]
    },
    {
      "cell_type": "code",
      "execution_count": null,
      "metadata": {
        "id": "7TVaPUqRPKiU"
      },
      "outputs": [],
      "source": [
        "test = reals['text'].apply(lambda x : ' '.join(fix(x)))"
      ]
    },
    {
      "cell_type": "code",
      "source": [
        "test = [text.lower() for text in test]"
      ],
      "metadata": {
        "id": "W65oi4hQfT8M"
      },
      "execution_count": null,
      "outputs": []
    },
    {
      "cell_type": "code",
      "source": [
        "test = [one_hot(text, voc_size) for text in test]"
      ],
      "metadata": {
        "id": "MIMlzYMAfpGI"
      },
      "execution_count": null,
      "outputs": []
    },
    {
      "cell_type": "code",
      "source": [
        "test = pad_sequences(test, padding=\"pre\", maxlen=sent_len)"
      ],
      "metadata": {
        "id": "NB46CKy9gxLj"
      },
      "execution_count": null,
      "outputs": []
    },
    {
      "cell_type": "code",
      "source": [
        "result = model.predict(numpy.array(test))"
      ],
      "metadata": {
        "id": "2CspqLPghHiS"
      },
      "execution_count": null,
      "outputs": []
    },
    {
      "cell_type": "code",
      "source": [
        ""
      ],
      "metadata": {
        "id": "evWesi6VhKeH"
      },
      "execution_count": null,
      "outputs": []
    }
  ],
  "metadata": {
    "colab": {
      "collapsed_sections": [],
      "name": "CleaningKLTN",
      "provenance": []
    },
    "kernelspec": {
      "display_name": "Python 3",
      "name": "python3"
    },
    "language_info": {
      "name": "python"
    }
  },
  "nbformat": 4,
  "nbformat_minor": 0
}